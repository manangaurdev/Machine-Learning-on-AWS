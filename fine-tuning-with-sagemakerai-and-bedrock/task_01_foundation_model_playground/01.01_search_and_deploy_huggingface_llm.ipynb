{
 "cells": [
  {
   "cell_type": "markdown",
   "id": "9491c8c7-3ccd-4d82-9064-680a9d89e919",
   "metadata": {},
   "source": [
    "<div style=\"background-color: #FFDDDD; border-left: 5px solid red; padding: 10px; color: black;\">\n",
    "    <strong>Kernel:</strong> Python 3 (ipykernel)\n",
    "</div>"
   ]
  },
  {
   "cell_type": "markdown",
   "id": "fcbb5d61-8a0b-47d9-a7c5-0c041c82b8bf",
   "metadata": {},
   "source": [
    "# 🚀 Deploy `deepseek-ai/DeepSeek-R1-Distill-Llama-8B` on Amazon SageMaker"
   ]
  },
  {
   "cell_type": "markdown",
   "id": "dd210e90-21e1-4f03-a08e-c3fba9aa6979",
   "metadata": {},
   "source": [
    "To start off, let's install some packages to help us through the notebooks. **Restart the kernel after packages have been installed.**"
   ]
  },
  {
   "cell_type": "code",
   "execution_count": null,
   "id": "7a3964ff-d238-4789-8b83-483c66e419b7",
   "metadata": {},
   "outputs": [],
   "source": [
    "%pip install -r ./scripts/requirements.txt --upgrade"
   ]
  },
  {
   "cell_type": "code",
   "execution_count": null,
   "id": "3cff4c6f-aa6a-41b2-86f2-d8d1ecae0517",
   "metadata": {},
   "outputs": [],
   "source": [
    "import os\n",
    "import sagemaker\n",
    "from sagemaker.djl_inference import DJLModel\n",
    "from ipywidgets import Dropdown\n",
    "\n",
    "import sys\n",
    "sys.path.append(os.path.dirname(os.getcwd()))\n",
    "\n",
    "from utilities.helpers import (\n",
    "    pretty_print_html, \n",
    "    set_meta_llama_params,\n",
    "    print_dialog,\n",
    "    format_messages,\n",
    "    write_eula\n",
    ")"
   ]
  },
  {
   "cell_type": "code",
   "execution_count": null,
   "id": "8b53f21c-3a65-44fc-b547-712d971cd652",
   "metadata": {},
   "outputs": [],
   "source": [
    "session = sagemaker.Session()\n",
    "role = sagemaker.get_execution_role()\n",
    "default_bucket = session.default_bucket()\n",
    "\n",
    "print(f\"Execution Role: {role}\")\n",
    "print(f\"Default S3 Bucket: {default_bucket}\")"
   ]
  },
  {
   "cell_type": "markdown",
   "id": "2bf99fe4-fee5-4405-847e-9a36ca3fcfb5",
   "metadata": {},
   "source": [
    "## Deploy Model to SageMaker Hosting"
   ]
  },
  {
   "cell_type": "markdown",
   "id": "088b2000-64b8-4aa8-8580-b389e7bf09d9",
   "metadata": {},
   "source": [
    "### Step 1: Get SageMaker LMI Container to host DeepSeek"
   ]
  },
  {
   "cell_type": "code",
   "execution_count": null,
   "id": "91f83a1d-08a9-49bc-900e-aa1e4c47662a",
   "metadata": {},
   "outputs": [],
   "source": [
    "inference_image_uri = sagemaker.image_uris.retrieve(\n",
    "    framework=\"djl-lmi\", \n",
    "    region=session.boto_session.region_name, \n",
    "    version=\"0.29.0\"\n",
    ")\n",
    "pretty_print_html(f\"using image to host: {inference_image_uri}\")"
   ]
  },
  {
   "cell_type": "markdown",
   "id": "67d67d58-ba4a-4c73-8cad-d94ebcdad46b",
   "metadata": {},
   "source": [
    "### Step 2: Deploy model using `DJLModel`"
   ]
  },
  {
   "cell_type": "code",
   "execution_count": 12,
   "id": "20acad6c-1d59-4495-980a-5c457ee74aef",
   "metadata": {},
   "outputs": [],
   "source": [
    "inference_llm_config = {\n",
    "    \"HF_MODEL_ID\": \"deepseek-ai/DeepSeek-R1-Distill-Llama-8B\",\n",
    "    \"OPTION_MAX_MODEL_LEN\": \"4096\",\n",
    "    \"OPTION_GPU_MEMORY_UTILIZATION\": \"0.8\",\n",
    "    \"OPTION_ENABLE_STREAMING\": \"false\",\n",
    "    \"OPTION_ROLLING_BATCH\": \"auto\",\n",
    "    \"OPTION_MODEL_LOADING_TIMEOUT\": \"3600\",\n",
    "    # \"OPTION_OUTPUT_FORMATTER\": \"jsonlines\",\n",
    "    \"OPTION_PAGED_ATTENTION\": \"false\",\n",
    "    \"OPTION_DTYPE\": \"fp16\",\n",
    "}"
   ]
  },
  {
   "cell_type": "code",
   "execution_count": 13,
   "id": "6ccc3068-056f-4149-9908-fd60f07eb4dd",
   "metadata": {},
   "outputs": [],
   "source": [
    "model_name = \"DeepSeek-R1-Distill-Llama-8B\"\n",
    "\n",
    "lmi_model = sagemaker.Model(\n",
    "    image_uri=inference_image_uri,\n",
    "    env=inference_llm_config,\n",
    "    role=role,\n",
    "    name=model_name\n",
    ")"
   ]
  },
  {
   "cell_type": "code",
   "execution_count": null,
   "id": "2d70a738-578b-4d6d-a4a3-c38b641b46cf",
   "metadata": {},
   "outputs": [],
   "source": [
    "base_endpoint_name = f\"{model_name}-endpoint\"\n",
    "\n",
    "predictor = lmi_model.deploy(\n",
    "    initial_instance_count=1, \n",
    "    instance_type=\"ml.g5.2xlarge\",\n",
    "    endpoint_name=base_endpoint_name\n",
    ")"
   ]
  }
 ],
 "metadata": {
  "kernelspec": {
   "display_name": "Python 3 (ipykernel)",
   "language": "python",
   "name": "python3"
  },
  "language_info": {
   "codemirror_mode": {
    "name": "ipython",
    "version": 3
   },
   "file_extension": ".py",
   "mimetype": "text/x-python",
   "name": "python",
   "nbconvert_exporter": "python",
   "pygments_lexer": "ipython3",
   "version": "3.11.11"
  }
 },
 "nbformat": 4,
 "nbformat_minor": 5
}
